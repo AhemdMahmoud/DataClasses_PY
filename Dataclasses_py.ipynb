{
  "nbformat": 4,
  "nbformat_minor": 0,
  "metadata": {
    "colab": {
      "provenance": []
    },
    "kernelspec": {
      "name": "python3",
      "display_name": "Python 3"
    },
    "language_info": {
      "name": "python"
    }
  },
  "cells": [
    {
      "cell_type": "code",
      "source": [
        "# class Person():\n",
        "#   def __init__(self,name,email=\"AHmed@.com\",age=14) :\n",
        "#     self.name=name\n",
        "#     self.email=email\n",
        "#     self.age=age\n",
        "#   def __repr__(self):\n",
        "#     return f\"{self.__class__.__name__}({self.name}{self.age})\"\n",
        "#  #for this  #False # although the same argument but his compare using memory\n",
        "#   def __eq__(self,othore):\n",
        "#     return {self.name}=={othore.name} #True\n",
        "# object1=Person(\"Ahmed\")\n",
        "# object2=Person(\"Ahmed\")\n",
        "# print (object1)  #<__main__.Person object at 0x7fbbeaf7a080> to show must use duunder methode name repr\n",
        "# print (object1==object2) #False # although the same argument but his compare using memory\n",
        "\n",
        "# print(id(object1))#140444600720000 memory\n",
        "# print(id(object2)) #140444600725520\n",
        "\n",
        "# \\*********************************************************************************\" DataClasses \"*****************************************************************************/*\n",
        "\n",
        "from dataclasses import dataclass,field\n",
        "@dataclass (order=True) #,frozen=True\n",
        "class Person():\n",
        "  sort_index:int =field(init=False,repr=False)\n",
        "  name:str =\"Ahmed\"\n",
        "  email:str =\"Ahmed\" #if you named defult name must named the All\n",
        "  age : int =15 #if you dont named the error =\"TypeError: non-default argument 'age' follows default argument\"\n",
        "  def __post_init__(self) :\n",
        "    self.sort_index=self.age\n",
        "    # object.__setattr__(self,'sort_index',self.age) when use froze=True\n",
        "object1=Person()\n",
        "print (object1)  #Person(name='Ahmed', email='Ahmed', age=15) #dont need dunnder methode to show\n",
        "object1.age=1 #using __post_init__ dunnder Methode and this don't work when put ( frozen =True ) and you can hack this via ( object.__setter__(self,'sort_index',self.age)\n",
        "print (object1)\n",
        "object2=Person(\"Ahmed\")\n",
        "print (object1>object2)\n",
        "print (object2)\n",
        "\n",
        "# \\*********************************************************************************\" DataClasses can inhirtance \"*****************************************************************************/*\n",
        "@dataclass\n",
        "class Employee(Person):\n",
        "  street:str =\"shf\"\n",
        "object3=Employee(\"SJd\")\n",
        "print(object3)\n",
        ""
      ],
      "metadata": {
        "colab": {
          "base_uri": "https://localhost:8080/"
        },
        "id": "452hfTwLPArh",
        "outputId": "30880545-6f02-4c89-d6fd-569335d65cd2"
      },
      "execution_count": 33,
      "outputs": [
        {
          "output_type": "stream",
          "name": "stdout",
          "text": [
            "Person(name='Ahmed', email='Ahmed', age=15)\n",
            "Person(name='Ahmed', email='Ahmed', age=1)\n",
            "False\n",
            "Person(name='Ahmed', email='Ahmed', age=15)\n",
            "Employee(name='SJd', email='Ahmed', age=15, street='shf')\n"
          ]
        }
      ]
    },
    {
      "cell_type": "code",
      "source": [],
      "metadata": {
        "id": "t0Rhn4hgSD1n"
      },
      "execution_count": null,
      "outputs": []
    },
    {
      "cell_type": "code",
      "source": [],
      "metadata": {
        "id": "WNXvL0P7Po-W"
      },
      "execution_count": null,
      "outputs": []
    }
  ]
}